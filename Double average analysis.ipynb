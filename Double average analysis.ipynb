{
 "cells": [
  {
   "cell_type": "code",
   "execution_count": 52,
   "metadata": {},
   "outputs": [],
   "source": [
    "#使用tushare包获取某股票的历史行情数据\n",
    "import numpy as np\n",
    "import pandas as pd\n",
    "import matplotlib.pyplot as plt\n",
    "import tushare as ts"
   ]
  },
  {
   "cell_type": "code",
   "execution_count": 53,
   "metadata": {},
   "outputs": [
    {
     "data": {
      "text/html": [
       "<div>\n",
       "<style scoped>\n",
       "    .dataframe tbody tr th:only-of-type {\n",
       "        vertical-align: middle;\n",
       "    }\n",
       "\n",
       "    .dataframe tbody tr th {\n",
       "        vertical-align: top;\n",
       "    }\n",
       "\n",
       "    .dataframe thead th {\n",
       "        text-align: right;\n",
       "    }\n",
       "</style>\n",
       "<table border=\"1\" class=\"dataframe\">\n",
       "  <thead>\n",
       "    <tr style=\"text-align: right;\">\n",
       "      <th></th>\n",
       "      <th>open</th>\n",
       "      <th>close</th>\n",
       "      <th>low</th>\n",
       "      <th>high</th>\n",
       "    </tr>\n",
       "    <tr>\n",
       "      <th>date</th>\n",
       "      <th></th>\n",
       "      <th></th>\n",
       "      <th></th>\n",
       "      <th></th>\n",
       "    </tr>\n",
       "  </thead>\n",
       "  <tbody>\n",
       "    <tr>\n",
       "      <th>2007-03-01</th>\n",
       "      <td>21.878</td>\n",
       "      <td>20.473</td>\n",
       "      <td>20.040</td>\n",
       "      <td>22.302</td>\n",
       "    </tr>\n",
       "    <tr>\n",
       "      <th>2007-03-02</th>\n",
       "      <td>20.565</td>\n",
       "      <td>20.307</td>\n",
       "      <td>20.075</td>\n",
       "      <td>20.758</td>\n",
       "    </tr>\n",
       "    <tr>\n",
       "      <th>2007-03-05</th>\n",
       "      <td>20.119</td>\n",
       "      <td>19.419</td>\n",
       "      <td>19.047</td>\n",
       "      <td>20.202</td>\n",
       "    </tr>\n",
       "    <tr>\n",
       "      <th>2007-03-06</th>\n",
       "      <td>19.253</td>\n",
       "      <td>19.800</td>\n",
       "      <td>19.143</td>\n",
       "      <td>20.128</td>\n",
       "    </tr>\n",
       "    <tr>\n",
       "      <th>2007-03-07</th>\n",
       "      <td>19.817</td>\n",
       "      <td>20.338</td>\n",
       "      <td>19.651</td>\n",
       "      <td>20.522</td>\n",
       "    </tr>\n",
       "    <tr>\n",
       "      <th>...</th>\n",
       "      <td>...</td>\n",
       "      <td>...</td>\n",
       "      <td>...</td>\n",
       "      <td>...</td>\n",
       "    </tr>\n",
       "    <tr>\n",
       "      <th>2017-12-11</th>\n",
       "      <td>71.200</td>\n",
       "      <td>73.250</td>\n",
       "      <td>70.820</td>\n",
       "      <td>73.310</td>\n",
       "    </tr>\n",
       "    <tr>\n",
       "      <th>2017-12-12</th>\n",
       "      <td>73.250</td>\n",
       "      <td>71.210</td>\n",
       "      <td>71.170</td>\n",
       "      <td>73.560</td>\n",
       "    </tr>\n",
       "    <tr>\n",
       "      <th>2017-12-13</th>\n",
       "      <td>71.210</td>\n",
       "      <td>72.120</td>\n",
       "      <td>70.200</td>\n",
       "      <td>72.620</td>\n",
       "    </tr>\n",
       "    <tr>\n",
       "      <th>2017-12-14</th>\n",
       "      <td>72.120</td>\n",
       "      <td>71.010</td>\n",
       "      <td>70.600</td>\n",
       "      <td>72.160</td>\n",
       "    </tr>\n",
       "    <tr>\n",
       "      <th>2017-12-15</th>\n",
       "      <td>70.690</td>\n",
       "      <td>70.380</td>\n",
       "      <td>70.050</td>\n",
       "      <td>71.440</td>\n",
       "    </tr>\n",
       "  </tbody>\n",
       "</table>\n",
       "<p>2563 rows × 4 columns</p>\n",
       "</div>"
      ],
      "text/plain": [
       "              open   close     low    high\n",
       "date                                      \n",
       "2007-03-01  21.878  20.473  20.040  22.302\n",
       "2007-03-02  20.565  20.307  20.075  20.758\n",
       "2007-03-05  20.119  19.419  19.047  20.202\n",
       "2007-03-06  19.253  19.800  19.143  20.128\n",
       "2007-03-07  19.817  20.338  19.651  20.522\n",
       "...            ...     ...     ...     ...\n",
       "2017-12-11  71.200  73.250  70.820  73.310\n",
       "2017-12-12  73.250  71.210  71.170  73.560\n",
       "2017-12-13  71.210  72.120  70.200  72.620\n",
       "2017-12-14  72.120  71.010  70.600  72.160\n",
       "2017-12-15  70.690  70.380  70.050  71.440\n",
       "\n",
       "[2563 rows x 4 columns]"
      ]
     },
     "execution_count": 53,
     "metadata": {},
     "output_type": "execute_result"
    }
   ],
   "source": [
    "df =  pd.read_csv(\"601318.csv\",index_col='date',parse_dates=['date'])[['open','close','low','high']]\n",
    "df"
   ]
  },
  {
   "cell_type": "markdown",
   "metadata": {},
   "source": [
    "使用pandas包计算该股票历史数据的5日均线和60日均线"
   ]
  },
  {
   "cell_type": "code",
   "execution_count": 33,
   "metadata": {},
   "outputs": [],
   "source": [
    "# df['ma5'] = np.nan\n",
    "# df['ma30'] = np.nan\n",
    "\n",
    "# for i in range(4,len(df)):\n",
    "#     df.loc[df.index[i],'ma5'] = df['close'][i-4:i+1].mean()\n",
    "\n",
    "\n",
    "# for i in range(29,len(df)):\n",
    "#     df.loc[df.index[i],'ma30'] = df['close'][i-29:i+1].mean()\n",
    "    "
   ]
  },
  {
   "cell_type": "code",
   "execution_count": 54,
   "metadata": {},
   "outputs": [
    {
     "data": {
      "text/html": [
       "<div>\n",
       "<style scoped>\n",
       "    .dataframe tbody tr th:only-of-type {\n",
       "        vertical-align: middle;\n",
       "    }\n",
       "\n",
       "    .dataframe tbody tr th {\n",
       "        vertical-align: top;\n",
       "    }\n",
       "\n",
       "    .dataframe thead th {\n",
       "        text-align: right;\n",
       "    }\n",
       "</style>\n",
       "<table border=\"1\" class=\"dataframe\">\n",
       "  <thead>\n",
       "    <tr style=\"text-align: right;\">\n",
       "      <th></th>\n",
       "      <th>open</th>\n",
       "      <th>close</th>\n",
       "      <th>low</th>\n",
       "      <th>high</th>\n",
       "      <th>ma5</th>\n",
       "      <th>ma30</th>\n",
       "    </tr>\n",
       "    <tr>\n",
       "      <th>date</th>\n",
       "      <th></th>\n",
       "      <th></th>\n",
       "      <th></th>\n",
       "      <th></th>\n",
       "      <th></th>\n",
       "      <th></th>\n",
       "    </tr>\n",
       "  </thead>\n",
       "  <tbody>\n",
       "    <tr>\n",
       "      <th>2007-03-01</th>\n",
       "      <td>21.878</td>\n",
       "      <td>20.473</td>\n",
       "      <td>20.040</td>\n",
       "      <td>22.302</td>\n",
       "      <td>NaN</td>\n",
       "      <td>NaN</td>\n",
       "    </tr>\n",
       "    <tr>\n",
       "      <th>2007-03-02</th>\n",
       "      <td>20.565</td>\n",
       "      <td>20.307</td>\n",
       "      <td>20.075</td>\n",
       "      <td>20.758</td>\n",
       "      <td>NaN</td>\n",
       "      <td>NaN</td>\n",
       "    </tr>\n",
       "    <tr>\n",
       "      <th>2007-03-05</th>\n",
       "      <td>20.119</td>\n",
       "      <td>19.419</td>\n",
       "      <td>19.047</td>\n",
       "      <td>20.202</td>\n",
       "      <td>NaN</td>\n",
       "      <td>NaN</td>\n",
       "    </tr>\n",
       "    <tr>\n",
       "      <th>2007-03-06</th>\n",
       "      <td>19.253</td>\n",
       "      <td>19.800</td>\n",
       "      <td>19.143</td>\n",
       "      <td>20.128</td>\n",
       "      <td>NaN</td>\n",
       "      <td>NaN</td>\n",
       "    </tr>\n",
       "    <tr>\n",
       "      <th>2007-03-07</th>\n",
       "      <td>19.817</td>\n",
       "      <td>20.338</td>\n",
       "      <td>19.651</td>\n",
       "      <td>20.522</td>\n",
       "      <td>20.0674</td>\n",
       "      <td>NaN</td>\n",
       "    </tr>\n",
       "    <tr>\n",
       "      <th>...</th>\n",
       "      <td>...</td>\n",
       "      <td>...</td>\n",
       "      <td>...</td>\n",
       "      <td>...</td>\n",
       "      <td>...</td>\n",
       "      <td>...</td>\n",
       "    </tr>\n",
       "    <tr>\n",
       "      <th>2017-12-11</th>\n",
       "      <td>71.200</td>\n",
       "      <td>73.250</td>\n",
       "      <td>70.820</td>\n",
       "      <td>73.310</td>\n",
       "      <td>70.7960</td>\n",
       "      <td>70.198667</td>\n",
       "    </tr>\n",
       "    <tr>\n",
       "      <th>2017-12-12</th>\n",
       "      <td>73.250</td>\n",
       "      <td>71.210</td>\n",
       "      <td>71.170</td>\n",
       "      <td>73.560</td>\n",
       "      <td>70.7980</td>\n",
       "      <td>70.427000</td>\n",
       "    </tr>\n",
       "    <tr>\n",
       "      <th>2017-12-13</th>\n",
       "      <td>71.210</td>\n",
       "      <td>72.120</td>\n",
       "      <td>70.200</td>\n",
       "      <td>72.620</td>\n",
       "      <td>71.3420</td>\n",
       "      <td>70.693667</td>\n",
       "    </tr>\n",
       "    <tr>\n",
       "      <th>2017-12-14</th>\n",
       "      <td>72.120</td>\n",
       "      <td>71.010</td>\n",
       "      <td>70.600</td>\n",
       "      <td>72.160</td>\n",
       "      <td>71.8160</td>\n",
       "      <td>70.922667</td>\n",
       "    </tr>\n",
       "    <tr>\n",
       "      <th>2017-12-15</th>\n",
       "      <td>70.690</td>\n",
       "      <td>70.380</td>\n",
       "      <td>70.050</td>\n",
       "      <td>71.440</td>\n",
       "      <td>71.5940</td>\n",
       "      <td>71.120333</td>\n",
       "    </tr>\n",
       "  </tbody>\n",
       "</table>\n",
       "<p>2563 rows × 6 columns</p>\n",
       "</div>"
      ],
      "text/plain": [
       "              open   close     low    high      ma5       ma30\n",
       "date                                                          \n",
       "2007-03-01  21.878  20.473  20.040  22.302      NaN        NaN\n",
       "2007-03-02  20.565  20.307  20.075  20.758      NaN        NaN\n",
       "2007-03-05  20.119  19.419  19.047  20.202      NaN        NaN\n",
       "2007-03-06  19.253  19.800  19.143  20.128      NaN        NaN\n",
       "2007-03-07  19.817  20.338  19.651  20.522  20.0674        NaN\n",
       "...            ...     ...     ...     ...      ...        ...\n",
       "2017-12-11  71.200  73.250  70.820  73.310  70.7960  70.198667\n",
       "2017-12-12  73.250  71.210  71.170  73.560  70.7980  70.427000\n",
       "2017-12-13  71.210  72.120  70.200  72.620  71.3420  70.693667\n",
       "2017-12-14  72.120  71.010  70.600  72.160  71.8160  70.922667\n",
       "2017-12-15  70.690  70.380  70.050  71.440  71.5940  71.120333\n",
       "\n",
       "[2563 rows x 6 columns]"
      ]
     },
     "execution_count": 54,
     "metadata": {},
     "output_type": "execute_result"
    }
   ],
   "source": [
    "df['ma5'] = df['close'].rolling(5).mean()\n",
    "df['ma30'] = df['close'].rolling(30).mean()\n",
    "df"
   ]
  },
  {
   "cell_type": "markdown",
   "metadata": {},
   "source": [
    "#使用matplotlib包可视化历史数据的收盘价和两条均线"
   ]
  },
  {
   "cell_type": "code",
   "execution_count": 55,
   "metadata": {},
   "outputs": [
    {
     "data": {
      "image/png": "[encoded data removed]",
      "text/plain": [
       "<Figure size 432x288 with 1 Axes>"
      ]
     },
     "metadata": {
      "needs_background": "light"
     },
     "output_type": "display_data"
    }
   ],
   "source": [
    "# df=df[:100]\n",
    "df[['close','ma5','ma30']].plot()\n",
    "plt.show()"
   ]
  },
  {
   "cell_type": "markdown",
   "metadata": {},
   "source": [
    "分析输出所有金叉日期和死叉日期"
   ]
  },
  {
   "cell_type": "markdown",
   "metadata": {},
   "source": [
    "金叉：\n",
    "今天5日均线<30日均线；\n",
    "明天5日均线>30日均线"
   ]
  },
  {
   "cell_type": "code",
   "execution_count": 67,
   "metadata": {},
   "outputs": [],
   "source": [
    "df = df.dropna()\n",
    "df =  df['2010-01-01':]"
   ]
  },
  {
   "cell_type": "code",
   "execution_count": 61,
   "metadata": {},
   "outputs": [
    {
     "data": {
      "text/plain": [
       "[datetime.datetime(2007, 6, 4, 0, 0),\n",
       " datetime.datetime(2007, 11, 6, 0, 0),\n",
       " datetime.datetime(2007, 12, 13, 0, 0),\n",
       " datetime.datetime(2008, 5, 20, 0, 0),\n",
       " datetime.datetime(2008, 7, 31, 0, 0),\n",
       " datetime.datetime(2008, 8, 13, 0, 0),\n",
       " datetime.datetime(2008, 9, 8, 0, 0),\n",
       " datetime.datetime(2008, 11, 24, 0, 0),\n",
       " datetime.datetime(2009, 3, 3, 0, 0),\n",
       " datetime.datetime(2009, 4, 28, 0, 0),\n",
       " datetime.datetime(2009, 5, 18, 0, 0),\n",
       " datetime.datetime(2009, 8, 11, 0, 0),\n",
       " datetime.datetime(2009, 11, 26, 0, 0),\n",
       " datetime.datetime(2010, 4, 29, 0, 0),\n",
       " datetime.datetime(2010, 11, 16, 0, 0),\n",
       " datetime.datetime(2010, 12, 20, 0, 0),\n",
       " datetime.datetime(2011, 2, 23, 0, 0),\n",
       " datetime.datetime(2011, 3, 17, 0, 0),\n",
       " datetime.datetime(2011, 5, 5, 0, 0),\n",
       " datetime.datetime(2011, 7, 21, 0, 0),\n",
       " datetime.datetime(2011, 11, 21, 0, 0),\n",
       " datetime.datetime(2012, 3, 9, 0, 0),\n",
       " datetime.datetime(2012, 6, 5, 0, 0),\n",
       " datetime.datetime(2012, 7, 27, 0, 0),\n",
       " datetime.datetime(2012, 9, 17, 0, 0),\n",
       " datetime.datetime(2012, 10, 29, 0, 0),\n",
       " datetime.datetime(2013, 2, 25, 0, 0),\n",
       " datetime.datetime(2013, 4, 24, 0, 0),\n",
       " datetime.datetime(2013, 5, 13, 0, 0),\n",
       " datetime.datetime(2013, 10, 9, 0, 0),\n",
       " datetime.datetime(2013, 10, 17, 0, 0),\n",
       " datetime.datetime(2013, 12, 23, 0, 0),\n",
       " datetime.datetime(2014, 1, 28, 0, 0),\n",
       " datetime.datetime(2014, 5, 19, 0, 0),\n",
       " datetime.datetime(2014, 6, 25, 0, 0),\n",
       " datetime.datetime(2014, 8, 26, 0, 0),\n",
       " datetime.datetime(2014, 9, 15, 0, 0),\n",
       " datetime.datetime(2015, 2, 2, 0, 0),\n",
       " datetime.datetime(2015, 5, 18, 0, 0),\n",
       " datetime.datetime(2015, 6, 2, 0, 0),\n",
       " datetime.datetime(2015, 6, 18, 0, 0),\n",
       " datetime.datetime(2015, 12, 1, 0, 0),\n",
       " datetime.datetime(2015, 12, 10, 0, 0),\n",
       " datetime.datetime(2016, 1, 5, 0, 0),\n",
       " datetime.datetime(2016, 4, 12, 0, 0),\n",
       " datetime.datetime(2016, 5, 6, 0, 0),\n",
       " datetime.datetime(2016, 6, 27, 0, 0),\n",
       " datetime.datetime(2016, 8, 8, 0, 0),\n",
       " datetime.datetime(2016, 9, 29, 0, 0),\n",
       " datetime.datetime(2016, 12, 20, 0, 0),\n",
       " datetime.datetime(2017, 3, 2, 0, 0),\n",
       " datetime.datetime(2017, 4, 13, 0, 0),\n",
       " datetime.datetime(2017, 8, 11, 0, 0),\n",
       " datetime.datetime(2017, 9, 20, 0, 0),\n",
       " datetime.datetime(2017, 12, 7, 0, 0)]"
      ]
     },
     "execution_count": 61,
     "metadata": {},
     "output_type": "execute_result"
    }
   ],
   "source": [
    "golden_cross = []\n",
    "death_cross = []\n",
    "for i in range(1,len(df)):\n",
    "    if df['ma5'][i] > df['ma30'][i] and df['ma5'][i-1] < df['ma30'][i-1]:\n",
    "        golden_cross.append(df.index[i].to_pydatetime())\n",
    "    if df['ma5'][i] <= df['ma30'][i] and df['ma5'][i-1] > df['ma30'][i-1]:\n",
    "        death_cross.append(df.index[i].to_pydatetime())\n",
    "death_cross        \n",
    "\n",
    "# golden_cross"
   ]
  },
  {
   "cell_type": "code",
   "execution_count": 68,
   "metadata": {},
   "outputs": [
    {
     "data": {
      "text/plain": [
       "DatetimeIndex(['2010-04-29', '2010-11-16', '2010-12-20', '2011-02-23',\n",
       "               '2011-03-17', '2011-05-05', '2011-07-21', '2011-11-21',\n",
       "               '2012-03-09', '2012-06-05', '2012-07-27', '2012-09-17',\n",
       "               '2012-10-29', '2013-02-25', '2013-04-24', '2013-05-13',\n",
       "               '2013-10-09', '2013-10-17', '2013-12-23', '2014-01-28',\n",
       "               '2014-05-19', '2014-06-25', '2014-08-26', '2014-09-15',\n",
       "               '2015-02-02', '2015-05-18', '2015-06-02', '2015-06-18',\n",
       "               '2015-12-01', '2015-12-10', '2016-01-05', '2016-04-12',\n",
       "               '2016-05-06', '2016-06-27', '2016-08-08', '2016-09-29',\n",
       "               '2016-12-20', '2017-03-02', '2017-04-13', '2017-08-11',\n",
       "               '2017-09-20', '2017-12-07'],\n",
       "              dtype='datetime64[ns]', name='date', freq=None)"
      ]
     },
     "execution_count": 68,
     "metadata": {},
     "output_type": "execute_result"
    }
   ],
   "source": [
    "\n",
    "sr1 = df['ma5']<df['ma30']\n",
    "\n",
    "\n",
    "# TTTTTTTTTTTTTTTFFFFFFFFFFFTTTTTTTTTT\n",
    "#  FFFFFFFFFFFFFFFTTTTTTTTTTTFFFFFFFFFF\n",
    "sr2 = df['ma5']>=df['ma30']\n",
    "\n",
    "death_cross = df[sr1 & sr2.shift(1)].index\n",
    "death_cross"
   ]
  },
  {
   "cell_type": "code",
   "execution_count": 69,
   "metadata": {},
   "outputs": [
    {
     "data": {
      "text/plain": [
       "DatetimeIndex(['2010-03-22', '2010-06-23', '2010-12-09', '2011-02-18',\n",
       "               '2011-03-04', '2011-04-06', '2011-06-30', '2011-10-28',\n",
       "               '2012-01-13', '2012-04-17', '2012-06-13', '2012-09-13',\n",
       "               '2012-09-27', '2012-12-07', '2013-04-22', '2013-05-09',\n",
       "               '2013-08-14', '2013-10-14', '2013-11-01', '2014-01-21',\n",
       "               '2014-04-02', '2014-05-28', '2014-07-04', '2014-09-05',\n",
       "               '2014-10-31', '2015-03-17', '2015-05-25', '2015-06-08',\n",
       "               '2015-09-22', '2015-12-04', '2015-12-17', '2016-03-04',\n",
       "               '2016-04-15', '2016-05-31', '2016-07-01', '2016-08-09',\n",
       "               '2016-11-01', '2017-01-18', '2017-03-24', '2017-04-26',\n",
       "               '2017-08-22', '2017-10-12', '2017-12-08'],\n",
       "              dtype='datetime64[ns]', name='date', freq=None)"
      ]
     },
     "execution_count": 69,
     "metadata": {},
     "output_type": "execute_result"
    }
   ],
   "source": [
    "sr1 = df['ma5']<df['ma30']\n",
    "sr2 = df['ma5']>=df['ma30']\n",
    "\n",
    "golden_cross = df[~(sr1 | sr2.shift(1))].index\n",
    "golden_cross"
   ]
  },
  {
   "cell_type": "markdown",
   "metadata": {},
   "source": [
    "假如我从2010年1月1日开始，初始资金为100000元，金叉尽量买入，死叉全部卖出，则到今天为止，我的炒股收益率如何？"
   ]
  },
  {
   "cell_type": "code",
   "execution_count": 80,
   "metadata": {},
   "outputs": [
    {
     "name": "stdout",
     "output_type": "stream",
     "text": [
      "452451.69999999995\n"
     ]
    }
   ],
   "source": [
    "first_money = 100000\n",
    "money =first_money\n",
    "hold = 0 #持有多少股\n",
    "sr1 = pd.Series(1,index=golden_cross)\n",
    "sr2 = pd.Series(0,index=death_cross)\n",
    "sr = sr1.append(sr2).sort_index()\n",
    "\n",
    "for i in range(0,len(sr)):\n",
    "    p = df['open'][sr.index[i]]\n",
    "    if sr.iloc[i]==1:\n",
    "        #金叉\n",
    "        buy = (money // (100*p))\n",
    "        hold += buy*100\n",
    "        money -= buy*100*p\n",
    "    else: \n",
    "        money += hold*p\n",
    "        hold = 0\n",
    "\n",
    "p = df['open'][-1]        \n",
    "now_money = hold * p +money\n",
    "\n",
    "print(now_money -first_money)"
   ]
  },
  {
   "cell_type": "code",
   "execution_count": null,
   "metadata": {},
   "outputs": [],
   "source": []
  }
 ],
 "metadata": {
  "kernelspec": {
   "display_name": "Python 3",
   "language": "python",
   "name": "python3"
  },
  "language_info": {
   "codemirror_mode": {
    "name": "ipython",
    "version": 3
   },
   "file_extension": ".py",
   "mimetype": "text/x-python",
   "name": "python",
   "nbconvert_exporter": "python",
   "pygments_lexer": "ipython3",
   "version": "3.8.5"
  }
 },
 "nbformat": 4,
 "nbformat_minor": 4
}
